{
 "cells": [
  {
   "cell_type": "code",
   "execution_count": 3,
   "id": "e1a727b6",
   "metadata": {},
   "outputs": [
    {
     "name": "stderr",
     "output_type": "stream",
     "text": [
      "<>:11: SyntaxWarning: invalid escape sequence '\\V'\n",
      "<>:11: SyntaxWarning: invalid escape sequence '\\V'\n",
      "C:\\Users\\Admin\\AppData\\Local\\Temp\\ipykernel_1300\\3454167263.py:11: SyntaxWarning: invalid escape sequence '\\V'\n",
      "  chrome_path = \"D:\\Venv Python\\chromedriver.exe\"\n"
     ]
    },
    {
     "name": "stdout",
     "output_type": "stream",
     "text": [
      "SBD 1000001: ['7.00', '6.00', nan, nan, nan, nan, nan, nan, '8.00', nan, nan]\n",
      "SBD 1000002: ['9.00', '6.00', '9.40', '7.25', '8.75', '7.25', '7.75', nan, nan, nan, nan]\n",
      "SBD 1000003: ['8.80', '6.50', '6.00', '8.25', '8.75', '4.75', '7.25', nan, nan, nan, nan]\n",
      "SBD 1000004: ['7.00', nan, '8.20', nan, '6.00', nan, nan, nan, nan, nan, nan]\n",
      "SBD 1000005: ['9.00', '7.50', '9.20', nan, nan, nan, nan, '7.25', '5.75', '9.25', '7.42']\n",
      "SBD 1000006: ['7.80', '7.75', '9.40', nan, nan, nan, nan, nan, nan, nan, nan]\n",
      "SBD 1000007: ['7.20', '7.00', '4.40', nan, nan, nan, nan, '5.00', '2.75', '8.25', '5.33']\n",
      "SBD 1000008: ['3.00', '3.00', nan, nan, nan, nan, nan, '6.25', '3.25', nan, nan]\n",
      "SBD 1000009: ['7.40', '6.75', '4.40', nan, nan, nan, nan, '7.25', '4.75', '7.00', '6.33']\n",
      "SBD 1000010: ['8.00', '6.50', '4.60', '5.00', '4.75', '5.50', '5.08', nan, nan, nan, nan]\n",
      "SBD 1000011: ['8.40', '9.00', '8.80', nan, nan, nan, nan, '7.50', '6.25', '9.00', '7.58']\n"
     ]
    },
    {
     "name": "stderr",
     "output_type": "stream",
     "text": [
      "C:\\Users\\Admin\\AppData\\Local\\Temp\\ipykernel_1300\\3454167263.py:11: SyntaxWarning: invalid escape sequence '\\V'\n",
      "  chrome_path = \"D:\\Venv Python\\chromedriver.exe\"\n"
     ]
    },
    {
     "ename": "InvalidSessionIdException",
     "evalue": "Message: invalid session id: session deleted as the browser has closed the connection\nfrom disconnected: not connected to DevTools\n  (Session info: chrome=137.0.7151.120)\nStacktrace:\n\tGetHandleVerifier [0x00007FF6FBD2CF65+75717]\n\tGetHandleVerifier [0x00007FF6FBD2CFC0+75808]\n\t(No symbol) [0x00007FF6FBAF8F9A]\n\t(No symbol) [0x00007FF6FBAE4E35]\n\t(No symbol) [0x00007FF6FBB09DB4]\n\t(No symbol) [0x00007FF6FBB7EE75]\n\t(No symbol) [0x00007FF6FBB9ECC2]\n\t(No symbol) [0x00007FF6FBB77153]\n\t(No symbol) [0x00007FF6FBB40421]\n\t(No symbol) [0x00007FF6FBB411B3]\n\tGetHandleVerifier [0x00007FF6FC02D74D+3223469]\n\tGetHandleVerifier [0x00007FF6FC027CF2+3200338]\n\tGetHandleVerifier [0x00007FF6FC045B23+3322755]\n\tGetHandleVerifier [0x00007FF6FBD46A3A+180890]\n\tGetHandleVerifier [0x00007FF6FBD4E13F+211359]\n\tGetHandleVerifier [0x00007FF6FBD352B4+109332]\n\tGetHandleVerifier [0x00007FF6FBD35462+109762]\n\tGetHandleVerifier [0x00007FF6FBD1BA79+4825]\n\tBaseThreadInitThunk [0x00007FFACB65E8D7+23]\n\tRtlUserThreadStart [0x00007FFACC77C34C+44]\n",
     "output_type": "error",
     "traceback": [
      "\u001b[31m---------------------------------------------------------------------------\u001b[39m",
      "\u001b[31mInvalidSessionIdException\u001b[39m                 Traceback (most recent call last)",
      "\u001b[36mCell\u001b[39m\u001b[36m \u001b[39m\u001b[32mIn[3]\u001b[39m\u001b[32m, line 29\u001b[39m\n\u001b[32m     26\u001b[39m sbd_list = [i*\u001b[32m1000000\u001b[39m + j \u001b[38;5;28;01mfor\u001b[39;00m j \u001b[38;5;129;01min\u001b[39;00m \u001b[38;5;28mrange\u001b[39m(\u001b[32m1\u001b[39m, \u001b[32m1000\u001b[39m)]\n\u001b[32m     27\u001b[39m \u001b[38;5;28;01mfor\u001b[39;00m sbd \u001b[38;5;129;01min\u001b[39;00m sbd_list:\n\u001b[32m     28\u001b[39m     \u001b[38;5;66;03m# Tìm ô nhập số báo danh và nhập vào\u001b[39;00m\n\u001b[32m---> \u001b[39m\u001b[32m29\u001b[39m     input_box = \u001b[43mdriver\u001b[49m\u001b[43m.\u001b[49m\u001b[43mfind_element\u001b[49m\u001b[43m(\u001b[49m\u001b[43mBy\u001b[49m\u001b[43m.\u001b[49m\u001b[43mCLASS_NAME\u001b[49m\u001b[43m,\u001b[49m\u001b[43m \u001b[49m\u001b[33;43m\"\u001b[39;49m\u001b[33;43mform-control\u001b[39;49m\u001b[33;43m\"\u001b[39;49m\u001b[43m)\u001b[49m\n\u001b[32m     30\u001b[39m     input_box.clear()\n\u001b[32m     31\u001b[39m     input_box.send_keys(\u001b[33m'\u001b[39m\u001b[33m0\u001b[39m\u001b[33m'\u001b[39m+\u001b[38;5;28mstr\u001b[39m(sbd))\n",
      "\u001b[36mFile \u001b[39m\u001b[32md:\\Venv Python\\venv\\Lib\\site-packages\\selenium\\webdriver\\remote\\webdriver.py:917\u001b[39m, in \u001b[36mWebDriver.find_element\u001b[39m\u001b[34m(self, by, value)\u001b[39m\n\u001b[32m    914\u001b[39m         \u001b[38;5;28;01mraise\u001b[39;00m NoSuchElementException(\u001b[33mf\u001b[39m\u001b[33m\"\u001b[39m\u001b[33mCannot locate relative element with: \u001b[39m\u001b[38;5;132;01m{\u001b[39;00mby.root\u001b[38;5;132;01m}\u001b[39;00m\u001b[33m\"\u001b[39m)\n\u001b[32m    915\u001b[39m     \u001b[38;5;28;01mreturn\u001b[39;00m elements[\u001b[32m0\u001b[39m]\n\u001b[32m--> \u001b[39m\u001b[32m917\u001b[39m \u001b[38;5;28;01mreturn\u001b[39;00m \u001b[38;5;28;43mself\u001b[39;49m\u001b[43m.\u001b[49m\u001b[43mexecute\u001b[49m\u001b[43m(\u001b[49m\u001b[43mCommand\u001b[49m\u001b[43m.\u001b[49m\u001b[43mFIND_ELEMENT\u001b[49m\u001b[43m,\u001b[49m\u001b[43m \u001b[49m\u001b[43m{\u001b[49m\u001b[33;43m\"\u001b[39;49m\u001b[33;43musing\u001b[39;49m\u001b[33;43m\"\u001b[39;49m\u001b[43m:\u001b[49m\u001b[43m \u001b[49m\u001b[43mby\u001b[49m\u001b[43m,\u001b[49m\u001b[43m \u001b[49m\u001b[33;43m\"\u001b[39;49m\u001b[33;43mvalue\u001b[39;49m\u001b[33;43m\"\u001b[39;49m\u001b[43m:\u001b[49m\u001b[43m \u001b[49m\u001b[43mvalue\u001b[49m\u001b[43m}\u001b[49m\u001b[43m)\u001b[49m[\u001b[33m\"\u001b[39m\u001b[33mvalue\u001b[39m\u001b[33m\"\u001b[39m]\n",
      "\u001b[36mFile \u001b[39m\u001b[32md:\\Venv Python\\venv\\Lib\\site-packages\\selenium\\webdriver\\remote\\webdriver.py:448\u001b[39m, in \u001b[36mWebDriver.execute\u001b[39m\u001b[34m(self, driver_command, params)\u001b[39m\n\u001b[32m    446\u001b[39m response = \u001b[38;5;28mself\u001b[39m.command_executor.execute(driver_command, params)\n\u001b[32m    447\u001b[39m \u001b[38;5;28;01mif\u001b[39;00m response:\n\u001b[32m--> \u001b[39m\u001b[32m448\u001b[39m     \u001b[38;5;28;43mself\u001b[39;49m\u001b[43m.\u001b[49m\u001b[43merror_handler\u001b[49m\u001b[43m.\u001b[49m\u001b[43mcheck_response\u001b[49m\u001b[43m(\u001b[49m\u001b[43mresponse\u001b[49m\u001b[43m)\u001b[49m\n\u001b[32m    449\u001b[39m     response[\u001b[33m\"\u001b[39m\u001b[33mvalue\u001b[39m\u001b[33m\"\u001b[39m] = \u001b[38;5;28mself\u001b[39m._unwrap_value(response.get(\u001b[33m\"\u001b[39m\u001b[33mvalue\u001b[39m\u001b[33m\"\u001b[39m, \u001b[38;5;28;01mNone\u001b[39;00m))\n\u001b[32m    450\u001b[39m     \u001b[38;5;28;01mreturn\u001b[39;00m response\n",
      "\u001b[36mFile \u001b[39m\u001b[32md:\\Venv Python\\venv\\Lib\\site-packages\\selenium\\webdriver\\remote\\errorhandler.py:232\u001b[39m, in \u001b[36mErrorHandler.check_response\u001b[39m\u001b[34m(self, response)\u001b[39m\n\u001b[32m    230\u001b[39m         alert_text = value[\u001b[33m\"\u001b[39m\u001b[33malert\u001b[39m\u001b[33m\"\u001b[39m].get(\u001b[33m\"\u001b[39m\u001b[33mtext\u001b[39m\u001b[33m\"\u001b[39m)\n\u001b[32m    231\u001b[39m     \u001b[38;5;28;01mraise\u001b[39;00m exception_class(message, screen, stacktrace, alert_text)  \u001b[38;5;66;03m# type: ignore[call-arg]  # mypy is not smart enough here\u001b[39;00m\n\u001b[32m--> \u001b[39m\u001b[32m232\u001b[39m \u001b[38;5;28;01mraise\u001b[39;00m exception_class(message, screen, stacktrace)\n",
      "\u001b[31mInvalidSessionIdException\u001b[39m: Message: invalid session id: session deleted as the browser has closed the connection\nfrom disconnected: not connected to DevTools\n  (Session info: chrome=137.0.7151.120)\nStacktrace:\n\tGetHandleVerifier [0x00007FF6FBD2CF65+75717]\n\tGetHandleVerifier [0x00007FF6FBD2CFC0+75808]\n\t(No symbol) [0x00007FF6FBAF8F9A]\n\t(No symbol) [0x00007FF6FBAE4E35]\n\t(No symbol) [0x00007FF6FBB09DB4]\n\t(No symbol) [0x00007FF6FBB7EE75]\n\t(No symbol) [0x00007FF6FBB9ECC2]\n\t(No symbol) [0x00007FF6FBB77153]\n\t(No symbol) [0x00007FF6FBB40421]\n\t(No symbol) [0x00007FF6FBB411B3]\n\tGetHandleVerifier [0x00007FF6FC02D74D+3223469]\n\tGetHandleVerifier [0x00007FF6FC027CF2+3200338]\n\tGetHandleVerifier [0x00007FF6FC045B23+3322755]\n\tGetHandleVerifier [0x00007FF6FBD46A3A+180890]\n\tGetHandleVerifier [0x00007FF6FBD4E13F+211359]\n\tGetHandleVerifier [0x00007FF6FBD352B4+109332]\n\tGetHandleVerifier [0x00007FF6FBD35462+109762]\n\tGetHandleVerifier [0x00007FF6FBD1BA79+4825]\n\tBaseThreadInitThunk [0x00007FFACB65E8D7+23]\n\tRtlUserThreadStart [0x00007FFACC77C34C+44]\n"
     ]
    }
   ],
   "source": [
    "from selenium import webdriver\n",
    "from selenium.webdriver.common.by import By\n",
    "from selenium.webdriver.chrome.options import Options\n",
    "from selenium.webdriver.chrome.service import Service as ChromeService\n",
    "import time\n",
    "import pandas as pd\n",
    "import re\n",
    "import numpy as np\n",
    "import csv\n",
    "\n",
    "chrome_path = \"D:\\Venv Python\\chromedriver.exe\"\n",
    "# Cấu hình trình duyệt không hiện (headless)\n",
    "chrome_options = Options()\n",
    "# chrome_options.add_argument(\"--headless\")  # Bỏ dấu nếu muốn chạy ẩn\n",
    "\n",
    "# Khởi tạo trình điều khiển Chrome\n",
    "service = ChromeService(executable_path=chrome_path)\n",
    "driver = webdriver.Chrome(service=service, options=chrome_options)\n",
    "# Mở trang tra cứu điểm\n",
    "driver.get(\"https://diemthi.vnanet.vn/btt-tra-cuu-diem-thi-THPT-2020?fbclid=IwY2xjawKubwdleHRuA2FlbQIxMABicmlkETFMNWJyRzRxcGNoQzlYYUlkAR7j8B4Kd4SdvVoB_erMdgybQLL7AhUI3gAeP31Mv1vSSIcOMmw0ydG-RJP2oQ_aem_dIK28McKLEMPoV_jWYRytQ\")\n",
    "\n",
    "time.sleep(2)  # Chờ trang load\n",
    "\n",
    "# Danh sách số báo danh muốn tra\n",
    "for i in range (1,65):\n",
    "    sbd_list = [i*1000000 + j for j in range(1, 1000)]\n",
    "    for sbd in sbd_list:\n",
    "        # Tìm ô nhập số báo danh và nhập vào\n",
    "        input_box = driver.find_element(By.CLASS_NAME, \"form-control\")\n",
    "        input_box.clear()\n",
    "        input_box.send_keys('0'+str(sbd))\n",
    "\n",
    "        # Nhấn nút tra cứu\n",
    "        tra_cuu_btn = driver.find_element(By.ID, \"btnSearch\")\n",
    "        tra_cuu_btn.click()\n",
    "\n",
    "        time.sleep(3)  # Chờ kết quả load\n",
    "\n",
    "        try:\n",
    "            # Tìm phần chứa dữ liệu kết quả\n",
    "            ket_qua = driver.find_element(By.ID, \"lblResult\")\n",
    "            text = ket_qua.text\n",
    "            texts = re.split(';',text)\n",
    "            result = []\n",
    "            for text in texts:\n",
    "                match = re.search(r'\\d+\\.\\d+',text)\n",
    "                if match:\n",
    "                    result.append(match.group())\n",
    "                else:\n",
    "                    result.append(np.nan)\n",
    "            with open(\"ket_qua_diem_thi.csv\", \"a\", encoding='utf-8') as f:\n",
    "                writer_csv = csv.writer(f)\n",
    "                if result is not None:\n",
    "                    writer_csv.writerow([sbd] + result)\n",
    "                    print(f\"SBD {sbd}: {result}\")\n",
    "        except Exception as e:\n",
    "            print(f\"SBD {sbd}: Không tìm thấy hoặc lỗi - {e}\")\n",
    "\n",
    "        time.sleep(1)\n",
    "\n",
    "# Đóng trình duyệt\n",
    "driver.quit()\n",
    "\n",
    "# Lưu kết quả ra file CSV\n",
    "# df = pd.DataFrame(results)\n",
    "# df.to_csv(\"ket_qua_diem_thi.csv\", index=False, encoding='utf-8-sig')\n",
    "\n",
    "print(\"Xong!\")\n"
   ]
  },
  {
   "cell_type": "code",
   "execution_count": null,
   "id": "a715b918",
   "metadata": {},
   "outputs": [],
   "source": []
  }
 ],
 "metadata": {
  "kernelspec": {
   "display_name": "venv (3.13.2)",
   "language": "python",
   "name": "python3"
  },
  "language_info": {
   "codemirror_mode": {
    "name": "ipython",
    "version": 3
   },
   "file_extension": ".py",
   "mimetype": "text/x-python",
   "name": "python",
   "nbconvert_exporter": "python",
   "pygments_lexer": "ipython3",
   "version": "3.13.2"
  }
 },
 "nbformat": 4,
 "nbformat_minor": 5
}
